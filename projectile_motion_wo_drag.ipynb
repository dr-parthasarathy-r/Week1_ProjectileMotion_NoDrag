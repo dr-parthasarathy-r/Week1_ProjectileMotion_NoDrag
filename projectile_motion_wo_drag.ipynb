{
 "cells": [
  {
   "cell_type": "code",
   "execution_count": 1,
   "id": "ff77be19",
   "metadata": {},
   "outputs": [],
   "source": [
    "# Projectile Motion Simulation"
   ]
  },
  {
   "cell_type": "code",
   "execution_count": 2,
   "id": "fa397eda-5f34-495b-b172-067fc164840c",
   "metadata": {},
   "outputs": [],
   "source": [
    "## imports and Setup"
   ]
  },
  {
   "cell_type": "code",
   "execution_count": 10,
   "id": "ef1fd5ac",
   "metadata": {},
   "outputs": [],
   "source": [
    "import numpy as np\n",
    "import matplotlib.pyplot as plt\n",
    "from ipywidgets import interact, FloatSlider, Dropdown"
   ]
  },
  {
   "cell_type": "code",
   "execution_count": 4,
   "id": "d839cd5d",
   "metadata": {},
   "outputs": [],
   "source": [
    "## Gravity Options"
   ]
  },
  {
   "cell_type": "code",
   "execution_count": 5,
   "id": "7b43942f",
   "metadata": {},
   "outputs": [],
   "source": [
    "gravity_options = {\n",
    "    'Earth (9.8 m/s²)': 9.8,\n",
    "    'Moon (1.62 m/s²)': 1.62,\n",
    "    'Mars (3.71 m/s²)': 3.71,\n",
    "    'Jupiter (24.79 m/s²)': 24.79\n",
    "}"
   ]
  },
  {
   "cell_type": "code",
   "execution_count": 6,
   "id": "ceb4d261",
   "metadata": {},
   "outputs": [],
   "source": [
    "## Plotting Function"
   ]
  },
  {
   "cell_type": "code",
   "execution_count": 12,
   "id": "b5eb4367",
   "metadata": {},
   "outputs": [],
   "source": [
    "def plot_parabola(proj_angle, initial_proj_velocity,g):\n",
    "    \"\"\" function plot_parabola(proj_angle, initial_proj_velocity, g) calculates the parabolic path of projectile \n",
    "    motion without any drag or air resistance. It takes three parameters as arguments namely the angle of projection, \n",
    "    the initial speed of projection and the acceleration due to gravity. The function calculates all the requisite \n",
    "    intermediate parameter values leading up to the calculation of the parabolic path. The three arguments to the function\n",
    "    are input through interactive widgets in the plot. The first two arguments are input through 2 separate sliders and\n",
    "    the last argument is input throuh a dropdown menu. The function call is through the interact method of the ipywidgets.\"\"\"\n",
    "    \n",
    "    # Convert angle to radians\n",
    "    proj_angle_rad = np.radians(proj_angle)\n",
    "\n",
    "    # Calculate range and time of flight\n",
    "    total_time = 2 * initial_proj_velocity * np.sin(proj_angle_rad) / g\n",
    "    proj_range = (initial_proj_velocity**2) * np.sin(2 * proj_angle_rad) / g\n",
    "\n",
    "    # Time and position arrays\n",
    "    t_vals = np.linspace(0, total_time, 500)\n",
    "    x_vals = initial_proj_velocity * np.cos(proj_angle_rad) * t_vals\n",
    "    y_vals = initial_proj_velocity * np.sin(proj_angle_rad) * t_vals - 0.5 * g * t_vals**2\n",
    "\n",
    "    # Peak point\n",
    "    t_peak = total_time / 2\n",
    "    x_peak = initial_proj_velocity * np.cos(proj_angle_rad) * t_peak\n",
    "    y_peak = initial_proj_velocity * np.sin(proj_angle_rad) * t_peak - 0.5 * g * t_peak**2\n",
    "\n",
    "    # Plot\n",
    "    plt.figure(figsize=(10, 5))\n",
    "    plt.plot(x_vals, y_vals, label=\"Projectile Path\")\n",
    "    plt.grid(True)\n",
    "\n",
    "    # Title with LaTeX\n",
    "    plt.title(\n",
    "        f\"θ = {proj_angle:.1f}°,   v₀ = {initial_proj_velocity:.1f} m/s\"\n",
    "    )\n",
    "\n",
    "    # Axis labels\n",
    "    plt.xlabel(\"Horizontal Distance (m)\")\n",
    "    plt.ylabel(\"Vertical Distance (m)\")\n",
    "\n",
    "    # Y-limit\n",
    "    y_max = max(y_vals) * 1.1\n",
    "    plt.ylim(0, y_max)\n",
    "\n",
    "    # Peak point with smart label positioning\n",
    "    plt.plot(x_peak, y_peak, 'ro', label=\"Peak\")\n",
    "\n",
    "    buffer_zone = 0.15 * y_max\n",
    "    if y_max - y_peak < buffer_zone:\n",
    "        label_y = y_peak - 0.05 * y_max\n",
    "        va = 'top'\n",
    "    else:\n",
    "        label_y = y_peak + 0.05 * y_max\n",
    "        va = 'bottom'\n",
    "\n",
    "    plt.text(x_peak, label_y,\n",
    "             f\"Peak: ({x_peak:.1f}, {y_peak:.1f}) m\",\n",
    "             ha='center', va=va, color='red')\n",
    "\n",
    "    # Range point label\n",
    "    plt.plot(proj_range, 0, 'go', label=\"Range\")\n",
    "    plt.text(proj_range, 0.05 * y_max,\n",
    "             f\"Range: {proj_range:.1f} m\",\n",
    "             ha='center', va='bottom', color='green')\n",
    "\n",
    "    # Legend\n",
    "    plt.legend()\n",
    "    plt.show()"
   ]
  },
  {
   "cell_type": "code",
   "execution_count": 8,
   "id": "f34f2fc3",
   "metadata": {},
   "outputs": [],
   "source": [
    "## Interactive Widgets"
   ]
  },
  {
   "cell_type": "code",
   "execution_count": 13,
   "id": "2d907f6f",
   "metadata": {},
   "outputs": [
    {
     "data": {
      "application/vnd.jupyter.widget-view+json": {
       "model_id": "82432478d440404b9a2ab7c42eb0a066",
       "version_major": 2,
       "version_minor": 0
      },
      "text/plain": [
       "interactive(children=(FloatSlider(value=45.0, description='Angle (°)', max=90.0, step=5.0), FloatSlider(value=…"
      ]
     },
     "metadata": {},
     "output_type": "display_data"
    }
   ],
   "source": [
    "interact(\n",
    "    plot_parabola,\n",
    "    proj_angle=FloatSlider(value=45, min=0, max=90, step=5, description='Angle (°)'),\n",
    "    initial_proj_velocity=FloatSlider(value=45, min=0, max=100, step=5, description='v₀ (m/s)'),g=Dropdown(options=gravity_options, value=9.8, description='Gravity:')\n",
    ");"
   ]
  }
 ],
 "metadata": {
  "kernelspec": {
   "display_name": "Python 3 (ipykernel)",
   "language": "python",
   "name": "python3"
  },
  "language_info": {
   "codemirror_mode": {
    "name": "ipython",
    "version": 3
   },
   "file_extension": ".py",
   "mimetype": "text/x-python",
   "name": "python",
   "nbconvert_exporter": "python",
   "pygments_lexer": "ipython3",
   "version": "3.10.16"
  }
 },
 "nbformat": 4,
 "nbformat_minor": 5
}
